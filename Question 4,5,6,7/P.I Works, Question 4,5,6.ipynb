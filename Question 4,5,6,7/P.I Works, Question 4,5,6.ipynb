{
 "cells": [
  {
   "cell_type": "markdown",
   "id": "39918967",
   "metadata": {},
   "source": [
    "## Library Import:"
   ]
  },
  {
   "cell_type": "code",
   "execution_count": 21,
   "id": "0bc264b7",
   "metadata": {},
   "outputs": [],
   "source": [
    "import pandas as pd\n",
    "import matplotlib.pyplot as plt\n",
    "import numpy as np"
   ]
  },
  {
   "cell_type": "markdown",
   "id": "167ee61d",
   "metadata": {},
   "source": [
    "## Data Read:"
   ]
  },
  {
   "cell_type": "code",
   "execution_count": 22,
   "id": "be7a70bd",
   "metadata": {},
   "outputs": [
    {
     "data": {
      "text/html": [
       "<div>\n",
       "<style scoped>\n",
       "    .dataframe tbody tr th:only-of-type {\n",
       "        vertical-align: middle;\n",
       "    }\n",
       "\n",
       "    .dataframe tbody tr th {\n",
       "        vertical-align: top;\n",
       "    }\n",
       "\n",
       "    .dataframe thead th {\n",
       "        text-align: right;\n",
       "    }\n",
       "</style>\n",
       "<table border=\"1\" class=\"dataframe\">\n",
       "  <thead>\n",
       "    <tr style=\"text-align: right;\">\n",
       "      <th></th>\n",
       "      <th>country</th>\n",
       "      <th>date</th>\n",
       "      <th>daily_vaccinations</th>\n",
       "      <th>vaccines</th>\n",
       "    </tr>\n",
       "  </thead>\n",
       "  <tbody>\n",
       "    <tr>\n",
       "      <th>0</th>\n",
       "      <td>Argentina</td>\n",
       "      <td>12/29/2020</td>\n",
       "      <td>NaN</td>\n",
       "      <td>Sputnik V</td>\n",
       "    </tr>\n",
       "    <tr>\n",
       "      <th>1</th>\n",
       "      <td>Argentina</td>\n",
       "      <td>12/30/2020</td>\n",
       "      <td>15656.0</td>\n",
       "      <td>Sputnik V</td>\n",
       "    </tr>\n",
       "    <tr>\n",
       "      <th>2</th>\n",
       "      <td>Argentina</td>\n",
       "      <td>12/31/2020</td>\n",
       "      <td>15656.0</td>\n",
       "      <td>Sputnik V</td>\n",
       "    </tr>\n",
       "    <tr>\n",
       "      <th>3</th>\n",
       "      <td>Argentina</td>\n",
       "      <td>1/1/2021</td>\n",
       "      <td>11070.0</td>\n",
       "      <td>Sputnik V</td>\n",
       "    </tr>\n",
       "    <tr>\n",
       "      <th>4</th>\n",
       "      <td>Argentina</td>\n",
       "      <td>1/2/2021</td>\n",
       "      <td>8776.0</td>\n",
       "      <td>Sputnik V</td>\n",
       "    </tr>\n",
       "  </tbody>\n",
       "</table>\n",
       "</div>"
      ],
      "text/plain": [
       "     country        date  daily_vaccinations   vaccines\n",
       "0  Argentina  12/29/2020                 NaN  Sputnik V\n",
       "1  Argentina  12/30/2020             15656.0  Sputnik V\n",
       "2  Argentina  12/31/2020             15656.0  Sputnik V\n",
       "3  Argentina    1/1/2021             11070.0  Sputnik V\n",
       "4  Argentina    1/2/2021              8776.0  Sputnik V"
      ]
     },
     "execution_count": 22,
     "metadata": {},
     "output_type": "execute_result"
    }
   ],
   "source": [
    "df = pd.read_csv(\"country_vaccination_stats.csv\")\n",
    "df.head()"
   ]
  },
  {
   "cell_type": "markdown",
   "id": "29af8ea0",
   "metadata": {},
   "source": [
    "## Question 4:\n",
    "Code Implementation Task: \n",
    "Implement code to fill the missing data (impute) in daily_vaccinations column per country with the minimum daily vaccination number of relevant countries.  \n",
    "Note: If a country does not have any valid vaccination number yet, fill it with “0” (zero). \n",
    "Please  provide the link to your code as answer to this question."
   ]
  },
  {
   "cell_type": "code",
   "execution_count": 79,
   "id": "3f45da50",
   "metadata": {},
   "outputs": [
    {
     "name": "stderr",
     "output_type": "stream",
     "text": [
      "/var/folders/gb/bh6x2cxn03ddh8n46b14bnmh0000gn/T/ipykernel_76633/3134081563.py:8: SettingWithCopyWarning: \n",
      "A value is trying to be set on a copy of a slice from a DataFrame.\n",
      "Try using .loc[row_indexer,col_indexer] = value instead\n",
      "\n",
      "See the caveats in the documentation: https://pandas.pydata.org/pandas-docs/stable/user_guide/indexing.html#returning-a-view-versus-a-copy\n",
      "  yz['daily_vaccinations'] = yz['daily_vaccinations'].fillna(yz['daily_vaccinations'].min())\n",
      "/var/folders/gb/bh6x2cxn03ddh8n46b14bnmh0000gn/T/ipykernel_76633/3134081563.py:6: SettingWithCopyWarning: \n",
      "A value is trying to be set on a copy of a slice from a DataFrame\n",
      "\n",
      "See the caveats in the documentation: https://pandas.pydata.org/pandas-docs/stable/user_guide/indexing.html#returning-a-view-versus-a-copy\n",
      "  yz['daily_vaccinations'].fillna(0, inplace=True)\n"
     ]
    }
   ],
   "source": [
    "df = pd.read_csv(\"country_vaccination_stats.csv\")\n",
    "data = {}\n",
    "for i in df[\"country\"].unique():\n",
    "    yz = df[df[\"country\"] == i]\n",
    "    if yz.shape[0] == 1:\n",
    "        yz['daily_vaccinations'].fillna(0, inplace=True)\n",
    "    else:\n",
    "        yz['daily_vaccinations'] = yz['daily_vaccinations'].fillna(yz['daily_vaccinations'].min())\n",
    "    data[i] = yz['daily_vaccinations']\n",
    "float_contains = [val for series in data.values() for val in series.values]\n",
    "\n",
    "df[\"daily_vaccinations\"] = float_contains\n",
    "df"
   ]
  },
  {
   "cell_type": "markdown",
   "id": "b2685f67",
   "metadata": {},
   "source": [
    "## Question 5:\n",
    "Code Implementation Task: \n",
    "Implement code to list the top-3 countries with highest median daily vaccination numbers by considering missing values imputed version of dataset.\n",
    "Please  provide the link to your code as answer to this question."
   ]
  },
  {
   "cell_type": "code",
   "execution_count": 87,
   "id": "41bb8ecf",
   "metadata": {},
   "outputs": [
    {
     "name": "stdout",
     "output_type": "stream",
     "text": [
      "Top 3 countries that has highest daily vaccinations (median):\n",
      "United States: 378253 vaccinations per day\n",
      "China: 276786 vaccinations per day\n",
      "India: 173922 vaccinations per day\n"
     ]
    }
   ],
   "source": [
    "filtered = df.groupby('country')['daily_vaccinations'].median()\n",
    "sorted_c = filtered.sort_values(ascending=False).head(3)\n",
    "\n",
    "print('Top 3 countries that has highest daily vaccinations (median):\\n')\n",
    "for i, j in sorted_c.items():\n",
    "    print(f'{i}: {j:.0f} vaccinations per day')"
   ]
  },
  {
   "cell_type": "markdown",
   "id": "4ce57b94",
   "metadata": {},
   "source": [
    "## Question 6:\n",
    "What is the number of total vaccinations done on 1/6/2021 (MM/DD/YYYY) by considering missing values imputed version of dataset? Please  just provide the number as answer."
   ]
  },
  {
   "cell_type": "code",
   "execution_count": 88,
   "id": "1792fb49",
   "metadata": {},
   "outputs": [
    {
     "name": "stdout",
     "output_type": "stream",
     "text": [
      "1485255.0\n"
     ]
    }
   ],
   "source": [
    "df_filtered_date = df[df['date'] == '1/6/2021']\n",
    "total = df_filtered_date['daily_vaccinations'].sum()\n",
    "print(total)"
   ]
  }
 ],
 "metadata": {
  "kernelspec": {
   "display_name": "Python 3 (ipykernel)",
   "language": "python",
   "name": "python3"
  },
  "language_info": {
   "codemirror_mode": {
    "name": "ipython",
    "version": 3
   },
   "file_extension": ".py",
   "mimetype": "text/x-python",
   "name": "python",
   "nbconvert_exporter": "python",
   "pygments_lexer": "ipython3",
   "version": "3.9.12"
  }
 },
 "nbformat": 4,
 "nbformat_minor": 5
}
